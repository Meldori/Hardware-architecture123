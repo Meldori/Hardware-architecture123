{
 "cells": [
  {
   "cell_type": "markdown",
   "id": "a7ce22f9-923d-4e4b-843f-5582cbbf82c7",
   "metadata": {},
   "source": [
    "# Практическая работа №2 - Выполнение операций над числами с плавающей и фиксированной точкой. Выполнение арифметических операций в прямом, обратном и дополнительном коде.\n",
    "\n",
    "**Цель практической работы:** Научиться переводить числа с плавающей и фиксированной точкой из одной системы счисления в другую, научиться производить операции с числами в различных системах счисления, научиться применять прямой, обратный и дополнительный код при решении арифметических операций.\n",
    "\n",
    "**Ход работы:**\n",
    "1. Ознакомиться с заданиями\n",
    "2. Ознакомиться с конспектом или другими теоретическими материалами\n",
    "4. Решить задания \n",
    "5. Заполнить отчет\n",
    "\n",
    "**Основные требования:**\n",
    "1. Сокращать до 4 знаков после запятой при необходимости\n",
    "2. Записывать ход вычислений на языке $\\LaTeX$\n",
    "\n",
    "**Пример записи решения:**\n",
    "\n",
    "$$110_{2}\\rightarrow x_{10}$$\n",
    "``$$101_{2} = 1*2^2 + 1*2^1 + 0*2^0 = 4+2+0 = 6_{10}$$`` $101_{2} = 1*2^2 + 1*2^1 + 0*2^0 = 4+2+0 = 6_{10}$\n",
    "\n",
    "$$5_{10}\\rightarrow x_{2}$$\n",
    "``$$5_{10} = (5:2 = 2) + (2:2 = 1) + (1:2 = 0) = 101_{2}$$`` $5_{10} = (5:2 = 2) + (2:2 = 1) + (1:2 = 0) = 101_{2}$\n",
    "\n",
    "$$5_{8}\\rightarrow x_{2}$$\n",
    "```\n",
    "$$5_{8} = 5*8^0 = 5_{10}$$\n",
    "$$5_{10} = (5:2 = 2) + (2:2 = 1) + (1:2 = 0) = 101_{2}$$\n",
    "```\n",
    "$$5_{8} = 5*8^0 = 5_{10}$$\n",
    "$$5_{10} = (5:2 = 2) + (2:2 = 1) + (1:2 = 0) = 101_{2}$$\n",
    "\n",
    "\n",
    "\n",
    "**Работу выполнил (ФИО студента):**"
   ]
  },
  {
   "cell_type": "markdown",
   "id": "d5fcfde6-f8ce-44c9-94a1-0dc5472a0195",
   "metadata": {},
   "source": []
  },
  {
   "cell_type": "markdown",
   "id": "8459eb1e-6a18-4ba2-b2e2-d27f4a1826b2",
   "metadata": {},
   "source": [
    "## Задание 1 - Перевод чисел из одной системы счисления в другую"
   ]
  },
  {
   "cell_type": "markdown",
   "id": "2113c032-2d48-4e99-a01c-81da77f2a394",
   "metadata": {},
   "source": [
    "№1 $$10.5_{10}\\rightarrow x_2$$"
   ]
  },
  {
   "cell_type": "markdown",
   "id": "a5d55c74",
   "metadata": {},
   "source": []
  },
  {
   "cell_type": "markdown",
   "id": "afee2a4d-dbd9-4848-80dd-9992aee67f5d",
   "metadata": {},
   "source": [
    "№2 $$16.5_8\\rightarrow x_{10}$$"
   ]
  },
  {
   "cell_type": "markdown",
   "id": "def3cd60",
   "metadata": {},
   "source": []
  },
  {
   "cell_type": "markdown",
   "id": "2e7ddfd8-5725-4e13-8167-3a5c56bab90c",
   "metadata": {},
   "source": [
    "№3 $$25.75_{10}\\rightarrow x_{16}$$"
   ]
  },
  {
   "cell_type": "markdown",
   "id": "9f9ffb31",
   "metadata": {},
   "source": []
  },
  {
   "cell_type": "markdown",
   "id": "cfc7a76d-a000-40cd-9864-563d6f99c09e",
   "metadata": {},
   "source": [
    "№4 $$ACC_{16}\\rightarrow x_{10}$$"
   ]
  },
  {
   "cell_type": "markdown",
   "id": "1ec56481",
   "metadata": {},
   "source": []
  },
  {
   "cell_type": "markdown",
   "id": "660959b3-1921-46d6-b767-611df8678bcb",
   "metadata": {},
   "source": [
    "## Задание 2 - Выполнение арифметических действий в различных системах счисления"
   ]
  },
  {
   "cell_type": "markdown",
   "id": "81d469ff-ef5c-4886-adc4-5712f3e63c59",
   "metadata": {},
   "source": [
    "№5 $$1011.10_2 + 1001.01_2 = x_2$$"
   ]
  },
  {
   "cell_type": "markdown",
   "id": "8417339e",
   "metadata": {},
   "source": []
  },
  {
   "cell_type": "markdown",
   "id": "882713be-7657-4d5c-bd26-88542a9eebfa",
   "metadata": {},
   "source": [
    "№6 $$45.5_8 - 27.25_8 = x_8$$"
   ]
  },
  {
   "cell_type": "markdown",
   "id": "48738a5b",
   "metadata": {},
   "source": []
  },
  {
   "cell_type": "markdown",
   "id": "213927ff-4c8d-403b-b07e-3638a17656b6",
   "metadata": {},
   "source": [
    "№7 $$82.35_{10} * 15.6_{20} = x_{10}$$"
   ]
  },
  {
   "cell_type": "markdown",
   "id": "6503c4e6",
   "metadata": {},
   "source": []
  },
  {
   "cell_type": "markdown",
   "id": "8def0118-4592-47d5-a7d3-e1636dc0f3ad",
   "metadata": {},
   "source": [
    "№8 $$A4.5_{16} : 1.C_{16} = x_{16}$$"
   ]
  },
  {
   "cell_type": "markdown",
   "id": "715ed2dc",
   "metadata": {},
   "source": []
  },
  {
   "cell_type": "markdown",
   "id": "7082f5de-bbf0-40fe-abc8-06b047787c8a",
   "metadata": {},
   "source": [
    "## Задание 3 - Найти прямой, обратный и дополнительный код числа"
   ]
  },
  {
   "cell_type": "markdown",
   "id": "e57e0ecf-913e-4f92-8e5c-3ab808901aed",
   "metadata": {},
   "source": [
    "№9 $$-20_{10}$$"
   ]
  },
  {
   "cell_type": "markdown",
   "id": "682846fd",
   "metadata": {},
   "source": []
  },
  {
   "cell_type": "markdown",
   "id": "7a23eed2-34d7-4d22-b68c-f16399ee8498",
   "metadata": {},
   "source": [
    "№10 $$15_{10}$$"
   ]
  },
  {
   "cell_type": "markdown",
   "id": "83c6bdb7",
   "metadata": {},
   "source": []
  },
  {
   "cell_type": "markdown",
   "id": "fb722b1f-2479-4209-ba22-6a0344334478",
   "metadata": {},
   "source": [
    "№11 $$80.5_{10}$$"
   ]
  },
  {
   "cell_type": "markdown",
   "id": "29fcffd8-b902-4a4f-a3c6-f8052c3ee5dd",
   "metadata": {},
   "source": []
  },
  {
   "cell_type": "markdown",
   "id": "adcad4ec-f639-478c-9475-980545fcc0a5",
   "metadata": {},
   "source": [
    "№12 $$-218.79_{10}$$"
   ]
  },
  {
   "cell_type": "markdown",
   "id": "02190e46-7196-4225-a5b7-5593233919c2",
   "metadata": {},
   "source": []
  },
  {
   "cell_type": "markdown",
   "id": "d84851d6-12ec-4108-8c4c-d768e4783d01",
   "metadata": {},
   "source": [
    "## Задание 4 - Выполнить арифметические действия с помошью прямого, обратного и дополнительного кода"
   ]
  },
  {
   "cell_type": "markdown",
   "id": "9bc8226c-6aec-4b09-8fa7-abc6dad24b89",
   "metadata": {},
   "source": [
    "№13 $$100_{10} - 25_{10} = x_{10}$$"
   ]
  },
  {
   "cell_type": "markdown",
   "id": "df4220fd-2b41-4c91-aa78-4c1a00bbbea3",
   "metadata": {},
   "source": []
  },
  {
   "cell_type": "markdown",
   "id": "232bb97d-0ce0-4fff-affb-d553234d3413",
   "metadata": {},
   "source": [
    "№14 $$-10_{10} + 5_{10} = x_{10}$$"
   ]
  },
  {
   "cell_type": "markdown",
   "id": "7a1d2911-4089-4cbd-bbf3-f42ed25b8bbc",
   "metadata": {},
   "source": []
  },
  {
   "cell_type": "markdown",
   "id": "2787ccc4-a30a-44ac-874e-0c483dbc7fae",
   "metadata": {},
   "source": [
    "№15 $$-20_{10} - 55_{10} = x_{10}$$"
   ]
  },
  {
   "cell_type": "markdown",
   "id": "b10fdb07-46ca-43a1-beeb-ff24310ac752",
   "metadata": {},
   "source": []
  },
  {
   "cell_type": "markdown",
   "id": "7719799f-1d8c-4065-ba36-09f6f38e1749",
   "metadata": {},
   "source": [
    "№16 $$78_{10} - 56_{10} = x_{10}$$"
   ]
  },
  {
   "cell_type": "markdown",
   "id": "d1de6735-9f12-4926-aa05-17969b7ea483",
   "metadata": {},
   "source": []
  },
  {
   "cell_type": "markdown",
   "id": "ec443828-abad-49e9-909c-a4cd1fb562c9",
   "metadata": {},
   "source": [
    "## Вывод"
   ]
  },
  {
   "cell_type": "markdown",
   "id": "10aaef74-7ef5-4bf9-a0bf-21cbf3dd7862",
   "metadata": {},
   "source": []
  }
 ],
 "metadata": {
  "kernelspec": {
   "display_name": "Python 3 (ipykernel)",
   "language": "python",
   "name": "python3"
  },
  "language_info": {
   "codemirror_mode": {
    "name": "ipython",
    "version": 3
   },
   "file_extension": ".py",
   "mimetype": "text/x-python",
   "name": "python",
   "nbconvert_exporter": "python",
   "pygments_lexer": "ipython3",
   "version": "3.10.8"
  }
 },
 "nbformat": 4,
 "nbformat_minor": 5
}
