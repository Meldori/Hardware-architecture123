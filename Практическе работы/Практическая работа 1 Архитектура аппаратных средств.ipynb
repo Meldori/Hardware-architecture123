{
 "cells": [
  {
   "cell_type": "markdown",
   "id": "a7ce22f9-923d-4e4b-843f-5582cbbf82c7",
   "metadata": {},
   "source": [
    "# Практическое занятие №1 - Выполнение перевода чисел из одной системы счисления в другую. Выполнение арифметических операций в двоичной системе счисления.\n",
    "\n",
    "**Цель практической работы:** Изучить основные принципы перевода чисел из одной системы счисления в другую и освоить выполнение основных арифметических операций в двоично системе счисления.\n",
    "\n",
    "**Ход работы:**\n",
    "1. Ознакомиться с заданиями\n",
    "2. Ознакомиться с конспектом или другими теоретическими материалами\n",
    "4. Решить задания \n",
    "5. Заполнить отчет\n",
    "\n",
    "**Основные требования:**\n",
    "1. Сокращать до 4 знаков после запятой при необходимости\n",
    "2. Записывать ход вычислений на языке $\\LaTeX$\n",
    "\n",
    "**Пример записи решения:**\n",
    "\n",
    "$$110_{2}\\rightarrow x_{10}$$\n",
    "``$$101_{2} = 1*2^2 + 1*2^1 + 0*2^0 = 4+2+0 = 6_{10}$$`` $101_{2} = 1*2^2 + 1*2^1 + 0*2^0 = 4+2+0 = 6_{10}$\n",
    "\n",
    "$$5_{10}\\rightarrow x_{2}$$\n",
    "``$$5_{10} = (5:2 = 2) + (2:2 = 1) + (1:2 = 0) = 101_{2}$$`` $5_{10} = (5:2 = 2) + (2:2 = 1) + (1:2 = 0) = 101_{2}$\n",
    "\n",
    "$$5_{8}\\rightarrow x_{2}$$\n",
    "```\n",
    "$$5_{8} = 5*8^0 = 5_{10}$$\n",
    "$$5_{10} = (5:2 = 2) + (2:2 = 1) + (1:2 = 0) = 101_{2}$$\n",
    "```\n",
    "$$5_{8} = 5*8^0 = 5_{10}$$\n",
    "$$5_{10} = (5:2 = 2) + (2:2 = 1) + (1:2 = 0) = 101_{2}$$\n",
    "\n",
    "\n",
    "\n",
    "**Работу выполнил (ФИО студента):**"
   ]
  },
  {
   "cell_type": "markdown",
   "id": "d5fcfde6-f8ce-44c9-94a1-0dc5472a0195",
   "metadata": {},
   "source": []
  },
  {
   "cell_type": "markdown",
   "id": "8459eb1e-6a18-4ba2-b2e2-d27f4a1826b2",
   "metadata": {},
   "source": [
    "## Задание 1 - Перевод чисел из одной системы счисления в другую"
   ]
  },
  {
   "cell_type": "markdown",
   "id": "2113c032-2d48-4e99-a01c-81da77f2a394",
   "metadata": {},
   "source": [
    "№1 $$101101_{2}\\rightarrow x_{10}$$"
   ]
  },
  {
   "cell_type": "markdown",
   "id": "e59194fd",
   "metadata": {},
   "source": []
  },
  {
   "cell_type": "markdown",
   "id": "76cf5d0d-34cf-4b61-9f6b-1136f78a4b18",
   "metadata": {},
   "source": [
    "№2 $$75_{8}\\rightarrow x_{2}$$"
   ]
  },
  {
   "cell_type": "markdown",
   "id": "78675129",
   "metadata": {},
   "source": []
  },
  {
   "cell_type": "markdown",
   "id": "d726e435-e248-4e2d-8e2e-8b620ea2f3b9",
   "metadata": {},
   "source": [
    "№3 $$183_{10}\\rightarrow x_{16}$$"
   ]
  },
  {
   "cell_type": "markdown",
   "id": "133facb3",
   "metadata": {},
   "source": []
  },
  {
   "cell_type": "markdown",
   "id": "0b2f89d5-0c6f-4759-af33-d9ed8db07c72",
   "metadata": {},
   "source": [
    "№4 $$1F_{16}\\rightarrow x_{2}$$"
   ]
  },
  {
   "cell_type": "markdown",
   "id": "9b8c9319",
   "metadata": {},
   "source": []
  },
  {
   "cell_type": "markdown",
   "id": "81d469ff-ef5c-4886-adc4-5712f3e63c59",
   "metadata": {},
   "source": [
    "№5 $$53_{16} \\rightarrow x_{8}$$"
   ]
  },
  {
   "cell_type": "markdown",
   "id": "ae6e70d3",
   "metadata": {},
   "source": []
  },
  {
   "cell_type": "markdown",
   "id": "660959b3-1921-46d6-b767-611df8678bcb",
   "metadata": {},
   "source": [
    "## Задание 2 - Выполнение арифметических действий в различных системах счисления"
   ]
  },
  {
   "cell_type": "markdown",
   "id": "213927ff-4c8d-403b-b07e-3638a17656b6",
   "metadata": {},
   "source": [
    "№6 $$1101_{2} * 1010_{2} = x_{2}$$"
   ]
  },
  {
   "cell_type": "markdown",
   "id": "e81aa092",
   "metadata": {},
   "source": []
  },
  {
   "cell_type": "markdown",
   "id": "de58424e-1f62-4069-9e05-3d3b93947500",
   "metadata": {},
   "source": [
    "№7 $$1010_{2} : 10_{2} = x_{2}$$"
   ]
  },
  {
   "cell_type": "markdown",
   "id": "2b7efff5",
   "metadata": {},
   "source": []
  },
  {
   "cell_type": "markdown",
   "id": "afe6ffc5-e815-4038-92da-44ed46d078b9",
   "metadata": {},
   "source": [
    "№8 $$1110_{}2 + 1011_{2} = x_{2}$$"
   ]
  },
  {
   "cell_type": "markdown",
   "id": "2b035327",
   "metadata": {},
   "source": []
  },
  {
   "cell_type": "markdown",
   "id": "24d5d0bb-1afb-4bec-8979-009ca7fd2767",
   "metadata": {},
   "source": [
    "№9 $$1110_2 - 1001_{2} = x_{2}$$"
   ]
  },
  {
   "cell_type": "markdown",
   "id": "d299764c",
   "metadata": {},
   "source": []
  },
  {
   "cell_type": "markdown",
   "id": "ec443828-abad-49e9-909c-a4cd1fb562c9",
   "metadata": {},
   "source": [
    "## Вывод"
   ]
  },
  {
   "cell_type": "markdown",
   "id": "32f23a9a",
   "metadata": {},
   "source": []
  }
 ],
 "metadata": {
  "kernelspec": {
   "display_name": "Python 3 (ipykernel)",
   "language": "python",
   "name": "python3"
  },
  "language_info": {
   "codemirror_mode": {
    "name": "ipython",
    "version": 3
   },
   "file_extension": ".py",
   "mimetype": "text/x-python",
   "name": "python",
   "nbconvert_exporter": "python",
   "pygments_lexer": "ipython3",
   "version": "3.10.8"
  }
 },
 "nbformat": 4,
 "nbformat_minor": 5
}
