{
 "cells": [
  {
   "cell_type": "markdown",
   "id": "a7ce22f9-923d-4e4b-843f-5582cbbf82c7",
   "metadata": {},
   "source": [
    "# Практическая работа №4 - Построение функциональных схем, реализующих сложные логические операции.\n",
    "\n",
    "**Цель практической работы:** Научиться применению законов алгебры логики для построения функциональных схем.\n",
    "\n",
    "**Ход работы:**\n",
    "1. Ознакомиться с заданиями\n",
    "2. Выбрать устройство\n",
    "3. Разработать и протестировать устройство в логическом симуляторе\n",
    "5. Заполнить отчет, вставить скриншот созданного устройства\n",
    "\n",
    "\n",
    "**Работу выполнил (ФИО студента):**"
   ]
  },
  {
   "cell_type": "markdown",
   "id": "d5fcfde6-f8ce-44c9-94a1-0dc5472a0195",
   "metadata": {},
   "source": []
  },
  {
   "cell_type": "markdown",
   "id": "8459eb1e-6a18-4ba2-b2e2-d27f4a1826b2",
   "metadata": {},
   "source": [
    "## Задание 1 - Разработайте логический элемент"
   ]
  },
  {
   "cell_type": "markdown",
   "id": "9bf7ae56",
   "metadata": {},
   "source": [
    "Создайте любой логический элемент на выбор в логическом симуляторе. В качестве симулятора можно использовать [Logic.ly](https://logic.ly/demo/) или любой аналогичный вариант.\n",
    "\n",
    "Устройства на выбор:\n",
    "1. Дешифратор из 2 системы счисления в 10\n",
    "2. Шифратор из 2 системы счисления в 10\n",
    "3. Комбинированный сумматор в 2 системе счисления\n",
    "4. Двоичный мультиплексор"
   ]
  },
  {
   "cell_type": "markdown",
   "id": "3635d567",
   "metadata": {},
   "source": [
    "Вставьте в отчет скриншот созданного устройства."
   ]
  },
  {
   "cell_type": "markdown",
   "id": "ec443828-abad-49e9-909c-a4cd1fb562c9",
   "metadata": {},
   "source": [
    "## Вывод"
   ]
  },
  {
   "cell_type": "markdown",
   "id": "10aaef74-7ef5-4bf9-a0bf-21cbf3dd7862",
   "metadata": {},
   "source": []
  }
 ],
 "metadata": {
  "kernelspec": {
   "display_name": "Python 3 (ipykernel)",
   "language": "python",
   "name": "python3"
  },
  "language_info": {
   "codemirror_mode": {
    "name": "ipython",
    "version": 3
   },
   "file_extension": ".py",
   "mimetype": "text/x-python",
   "name": "python",
   "nbconvert_exporter": "python",
   "pygments_lexer": "ipython3",
   "version": "3.11.2"
  }
 },
 "nbformat": 4,
 "nbformat_minor": 5
}
